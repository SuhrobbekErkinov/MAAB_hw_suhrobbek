{
 "cells": [
  {
   "cell_type": "markdown",
   "metadata": {},
   "source": [
    "### problem 1\n"
   ]
  },
  {
   "cell_type": "code",
   "execution_count": 1,
   "metadata": {},
   "outputs": [
    {
     "name": "stdout",
     "output_type": "stream",
     "text": [
      "Value for key 'c': Key not found\n"
     ]
    }
   ],
   "source": [
    "my_dict = {'a': 1, 'b': 2}\n",
    "key = 'c'\n",
    "value = my_dict.get(key, \"Key not found\")\n",
    "print(\"Value for key '{}':\".format(key), value)"
   ]
  },
  {
   "cell_type": "markdown",
   "metadata": {},
   "source": [
    "### problem 2"
   ]
  },
  {
   "cell_type": "code",
   "execution_count": 2,
   "metadata": {},
   "outputs": [
    {
     "name": "stdout",
     "output_type": "stream",
     "text": [
      "Does key 'a' exist?: True\n"
     ]
    }
   ],
   "source": [
    "key = 'a'\n",
    "exists = key in my_dict\n",
    "print(\"Does key '{}' exist?:\".format(key), exists)"
   ]
  },
  {
   "cell_type": "markdown",
   "metadata": {},
   "source": [
    "### problem 3"
   ]
  },
  {
   "cell_type": "code",
   "execution_count": 4,
   "metadata": {},
   "outputs": [
    {
     "name": "stdout",
     "output_type": "stream",
     "text": [
      "Number of keys: 2\n"
     ]
    }
   ],
   "source": [
    "key_count = len(my_dict)\n",
    "print(\"Number of keys:\", key_count)"
   ]
  },
  {
   "cell_type": "markdown",
   "metadata": {},
   "source": [
    "### problem 4"
   ]
  },
  {
   "cell_type": "code",
   "execution_count": 5,
   "metadata": {},
   "outputs": [
    {
     "name": "stdout",
     "output_type": "stream",
     "text": [
      "All keys: ['a', 'b']\n"
     ]
    }
   ],
   "source": [
    "keys_list = list(my_dict.keys())\n",
    "print(\"All keys:\", keys_list)"
   ]
  },
  {
   "cell_type": "markdown",
   "metadata": {},
   "source": [
    "### problem 5"
   ]
  },
  {
   "cell_type": "code",
   "execution_count": 6,
   "metadata": {},
   "outputs": [
    {
     "name": "stdout",
     "output_type": "stream",
     "text": [
      "All values: [1, 2]\n"
     ]
    }
   ],
   "source": [
    "values_list = list(my_dict.values())\n",
    "print(\"All values:\", values_list)"
   ]
  },
  {
   "cell_type": "markdown",
   "metadata": {},
   "source": [
    "### problem 6"
   ]
  },
  {
   "cell_type": "code",
   "execution_count": 7,
   "metadata": {},
   "outputs": [
    {
     "name": "stdout",
     "output_type": "stream",
     "text": [
      "Merged dictionary: {'a': 1, 'b': 3, 'c': 4}\n"
     ]
    }
   ],
   "source": [
    "dict1 = {'a': 1, 'b': 2}\n",
    "dict2 = {'b': 3, 'c': 4}\n",
    "merged_dict = {**dict1, **dict2}  \n",
    "print(\"Merged dictionary:\", merged_dict)"
   ]
  },
  {
   "cell_type": "markdown",
   "metadata": {},
   "source": [
    "### problem 7"
   ]
  },
  {
   "cell_type": "code",
   "execution_count": 8,
   "metadata": {},
   "outputs": [
    {
     "name": "stdout",
     "output_type": "stream",
     "text": [
      "After removal: {'b': 2}\n"
     ]
    }
   ],
   "source": [
    "key_to_remove = 'a'\n",
    "removed_value = my_dict.pop(key_to_remove, None)\n",
    "print(\"After removal:\", my_dict)"
   ]
  },
  {
   "cell_type": "markdown",
   "metadata": {},
   "source": [
    "### problem 8"
   ]
  },
  {
   "cell_type": "code",
   "execution_count": 9,
   "metadata": {},
   "outputs": [
    {
     "name": "stdout",
     "output_type": "stream",
     "text": [
      "Cleared dictionary: {}\n"
     ]
    }
   ],
   "source": [
    "temp_dict = my_dict.copy()\n",
    "temp_dict.clear()\n",
    "print(\"Cleared dictionary:\", temp_dict)"
   ]
  },
  {
   "cell_type": "markdown",
   "metadata": {},
   "source": [
    "### problem 9"
   ]
  },
  {
   "cell_type": "code",
   "execution_count": 10,
   "metadata": {},
   "outputs": [
    {
     "name": "stdout",
     "output_type": "stream",
     "text": [
      "Is the dictionary empty? True\n"
     ]
    }
   ],
   "source": [
    "is_empty = len(temp_dict) == 0\n",
    "print(\"Is the dictionary empty?\", is_empty)"
   ]
  },
  {
   "cell_type": "markdown",
   "metadata": {},
   "source": [
    "### problem 10"
   ]
  },
  {
   "cell_type": "code",
   "execution_count": 11,
   "metadata": {},
   "outputs": [
    {
     "name": "stdout",
     "output_type": "stream",
     "text": [
      "Key-Value pair: ('b', 2)\n"
     ]
    }
   ],
   "source": [
    "key = 'b'\n",
    "if key in my_dict:\n",
    "    pair = (key, my_dict[key])\n",
    "    print(\"Key-Value pair:\", pair)\n",
    "else:\n",
    "    print(\"Key '{}' not found.\".format(key))"
   ]
  },
  {
   "cell_type": "markdown",
   "metadata": {},
   "source": [
    "### problem 11"
   ]
  },
  {
   "cell_type": "code",
   "execution_count": 12,
   "metadata": {},
   "outputs": [
    {
     "name": "stdout",
     "output_type": "stream",
     "text": [
      "After updating: {'b': 20}\n"
     ]
    }
   ],
   "source": [
    "key_to_update = 'b'\n",
    "new_value = 20\n",
    "if key_to_update in my_dict:\n",
    "    my_dict[key_to_update] = new_value\n",
    "print(\"After updating:\", my_dict)"
   ]
  },
  {
   "cell_type": "markdown",
   "metadata": {},
   "source": [
    "### problem 12"
   ]
  },
  {
   "cell_type": "code",
   "execution_count": 13,
   "metadata": {},
   "outputs": [
    {
     "name": "stdout",
     "output_type": "stream",
     "text": [
      "Occurrences of 1: 2\n"
     ]
    }
   ],
   "source": [
    "value_dict = {'a': 1, 'b': 2, 'c': 1, 'd': 3}\n",
    "target_value = 1\n",
    "occurrences = sum(1 for value in value_dict.values() if value == target_value)\n",
    "print(\"Occurrences of {}:\".format(target_value), occurrences)"
   ]
  },
  {
   "cell_type": "markdown",
   "metadata": {},
   "source": [
    "### problem 13"
   ]
  },
  {
   "cell_type": "code",
   "execution_count": 14,
   "metadata": {},
   "outputs": [
    {
     "name": "stdout",
     "output_type": "stream",
     "text": [
      "Inverted dictionary: {20: 'b'}\n"
     ]
    }
   ],
   "source": [
    "inverted_dict = {value: key for key, value in my_dict.items()}\n",
    "print(\"Inverted dictionary:\", inverted_dict)\n"
   ]
  },
  {
   "cell_type": "markdown",
   "metadata": {},
   "source": [
    "### problem 14"
   ]
  },
  {
   "cell_type": "code",
   "execution_count": 15,
   "metadata": {},
   "outputs": [
    {
     "name": "stdout",
     "output_type": "stream",
     "text": [
      "Keys with value 20: ['b']\n"
     ]
    }
   ],
   "source": [
    "search_value = 20\n",
    "keys_with_value = [key for key, value in my_dict.items() if value == search_value]\n",
    "print(\"Keys with value {}:\".format(search_value), keys_with_value)"
   ]
  },
  {
   "cell_type": "markdown",
   "metadata": {},
   "source": [
    "### problem 15"
   ]
  },
  {
   "cell_type": "code",
   "execution_count": 16,
   "metadata": {},
   "outputs": [
    {
     "name": "stdout",
     "output_type": "stream",
     "text": [
      "Dictionary from lists: {'x': 10, 'y': 20, 'z': 30}\n"
     ]
    }
   ],
   "source": [
    "keys_list = ['x', 'y', 'z']\n",
    "values_list = [10, 20, 30]\n",
    "dict_from_lists = dict(zip(keys_list, values_list))\n",
    "print(\"Dictionary from lists:\", dict_from_lists)"
   ]
  },
  {
   "cell_type": "markdown",
   "metadata": {},
   "source": [
    "### problem 16"
   ]
  },
  {
   "cell_type": "code",
   "execution_count": 17,
   "metadata": {},
   "outputs": [
    {
     "name": "stdout",
     "output_type": "stream",
     "text": [
      "Contains nested dictionary? True\n"
     ]
    }
   ],
   "source": [
    "nested_dict = {\n",
    "    'a': 1,\n",
    "    'b': {'nested': 2},\n",
    "    'c': 3\n",
    "}\n",
    "has_nested = any(isinstance(value, dict) for value in nested_dict.values())\n",
    "print(\"Contains nested dictionary?\", has_nested)"
   ]
  },
  {
   "cell_type": "markdown",
   "metadata": {},
   "source": [
    "### problem 17"
   ]
  },
  {
   "cell_type": "code",
   "execution_count": null,
   "metadata": {},
   "outputs": [
    {
     "name": "stdout",
     "output_type": "stream",
     "text": [
      "Nested value: found me!\n"
     ]
    }
   ],
   "source": [
    "complex_dict = {'outer': {'inner': 'found me!'}}\n",
    "nested_value = complex_dict.get('outer', {}).get('inner', \"Not found\")\n",
    "print(\"Nested value:\", nested_value)"
   ]
  },
  {
   "cell_type": "markdown",
   "metadata": {},
   "source": [
    "### problem 18"
   ]
  },
  {
   "cell_type": "code",
   "execution_count": 19,
   "metadata": {},
   "outputs": [
    {
     "name": "stdout",
     "output_type": "stream",
     "text": [
      "Default dictionary value for 'b': 0\n"
     ]
    }
   ],
   "source": [
    "from collections import defaultdict\n",
    "\n",
    "default_dict = defaultdict(lambda: 0)\n",
    "default_dict['a'] = 1\n",
    "print(\"Default dictionary value for 'b':\", default_dict['b'])  \n"
   ]
  },
  {
   "cell_type": "markdown",
   "metadata": {},
   "source": [
    "### problem 19"
   ]
  },
  {
   "cell_type": "code",
   "execution_count": 20,
   "metadata": {},
   "outputs": [
    {
     "name": "stdout",
     "output_type": "stream",
     "text": [
      "Count of unique values: 1\n"
     ]
    }
   ],
   "source": [
    "unique_values_count = len(set(my_dict.values()))\n",
    "print(\"Count of unique values:\", unique_values_count)"
   ]
  },
  {
   "cell_type": "markdown",
   "metadata": {},
   "source": [
    "### problem 20"
   ]
  },
  {
   "cell_type": "code",
   "execution_count": 21,
   "metadata": {},
   "outputs": [
    {
     "name": "stdout",
     "output_type": "stream",
     "text": [
      "Dictionary sorted by key: {'b': 20}\n"
     ]
    }
   ],
   "source": [
    "sorted_by_key = dict(sorted(my_dict.items()))\n",
    "print(\"Dictionary sorted by key:\", sorted_by_key)"
   ]
  },
  {
   "cell_type": "markdown",
   "metadata": {},
   "source": [
    "### problem 21"
   ]
  },
  {
   "cell_type": "code",
   "execution_count": 22,
   "metadata": {},
   "outputs": [
    {
     "name": "stdout",
     "output_type": "stream",
     "text": [
      "Dictionary sorted by value: {'b': 20}\n"
     ]
    }
   ],
   "source": [
    "sorted_by_value = dict(sorted(my_dict.items(), key=lambda item: item[1]))\n",
    "print(\"Dictionary sorted by value:\", sorted_by_value)"
   ]
  },
  {
   "cell_type": "markdown",
   "metadata": {},
   "source": [
    "### problem 22"
   ]
  },
  {
   "cell_type": "code",
   "execution_count": 23,
   "metadata": {},
   "outputs": [
    {
     "name": "stdout",
     "output_type": "stream",
     "text": [
      "Filtered dictionary (values > 10): {'b': 20}\n"
     ]
    }
   ],
   "source": [
    "filtered_dict = {k: v for k, v in my_dict.items() if v > 10}\n",
    "print(\"Filtered dictionary (values > 10):\", filtered_dict)"
   ]
  },
  {
   "cell_type": "markdown",
   "metadata": {},
   "source": [
    "### problem 23"
   ]
  },
  {
   "cell_type": "code",
   "execution_count": 24,
   "metadata": {},
   "outputs": [
    {
     "name": "stdout",
     "output_type": "stream",
     "text": [
      "Common keys: {'b'}\n"
     ]
    }
   ],
   "source": [
    "dict_a = {'a': 1, 'b': 2}\n",
    "dict_b = {'b': 3, 'c': 4}\n",
    "common_keys = set(dict_a.keys()) & set(dict_b.keys())\n",
    "print(\"Common keys:\", common_keys)"
   ]
  },
  {
   "cell_type": "markdown",
   "metadata": {},
   "source": [
    "### problem 24"
   ]
  },
  {
   "cell_type": "code",
   "execution_count": 25,
   "metadata": {},
   "outputs": [
    {
     "name": "stdout",
     "output_type": "stream",
     "text": [
      "Dictionary from tuple: {'a': 1, 'b': 2, 'c': 3}\n"
     ]
    }
   ],
   "source": [
    "tuple_pairs = (('a', 1), ('b', 2), ('c', 3))\n",
    "dict_from_tuple = dict(tuple_pairs)\n",
    "print(\"Dictionary from tuple:\", dict_from_tuple)"
   ]
  },
  {
   "cell_type": "markdown",
   "metadata": {},
   "source": [
    "### problem 25"
   ]
  },
  {
   "cell_type": "code",
   "execution_count": 26,
   "metadata": {},
   "outputs": [
    {
     "name": "stdout",
     "output_type": "stream",
     "text": [
      "First key-value pair: ('b', 20)\n"
     ]
    }
   ],
   "source": [
    "if my_dict:\n",
    "    first_pair = next(iter(my_dict.items()))\n",
    "    print(\"First key-value pair:\", first_pair)\n",
    "else:\n",
    "    print(\"The dictionary is empty.\")"
   ]
  }
 ],
 "metadata": {
  "kernelspec": {
   "display_name": "Python 3",
   "language": "python",
   "name": "python3"
  },
  "language_info": {
   "codemirror_mode": {
    "name": "ipython",
    "version": 3
   },
   "file_extension": ".py",
   "mimetype": "text/x-python",
   "name": "python",
   "nbconvert_exporter": "python",
   "pygments_lexer": "ipython3",
   "version": "3.13.1"
  }
 },
 "nbformat": 4,
 "nbformat_minor": 2
}
