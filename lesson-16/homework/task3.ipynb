{
 "cells": [
  {
   "cell_type": "code",
   "execution_count": 3,
   "metadata": {},
   "outputs": [
    {
     "data": {
      "text/html": [
       "<div>\n",
       "<style scoped>\n",
       "    .dataframe tbody tr th:only-of-type {\n",
       "        vertical-align: middle;\n",
       "    }\n",
       "\n",
       "    .dataframe tbody tr th {\n",
       "        vertical-align: top;\n",
       "    }\n",
       "\n",
       "    .dataframe thead th {\n",
       "        text-align: right;\n",
       "    }\n",
       "</style>\n",
       "<table border=\"1\" class=\"dataframe\">\n",
       "  <thead>\n",
       "    <tr style=\"text-align: right;\">\n",
       "      <th></th>\n",
       "      <th>mean</th>\n",
       "      <th>median</th>\n",
       "      <th>std</th>\n",
       "    </tr>\n",
       "  </thead>\n",
       "  <tbody>\n",
       "    <tr>\n",
       "      <th>sepalLength</th>\n",
       "      <td>5.843333</td>\n",
       "      <td>5.80</td>\n",
       "      <td>0.828066</td>\n",
       "    </tr>\n",
       "    <tr>\n",
       "      <th>sepalWidth</th>\n",
       "      <td>3.057333</td>\n",
       "      <td>3.00</td>\n",
       "      <td>0.435866</td>\n",
       "    </tr>\n",
       "    <tr>\n",
       "      <th>petalLength</th>\n",
       "      <td>3.758000</td>\n",
       "      <td>4.35</td>\n",
       "      <td>1.765298</td>\n",
       "    </tr>\n",
       "    <tr>\n",
       "      <th>petalWidth</th>\n",
       "      <td>1.199333</td>\n",
       "      <td>1.30</td>\n",
       "      <td>0.762238</td>\n",
       "    </tr>\n",
       "  </tbody>\n",
       "</table>\n",
       "</div>"
      ],
      "text/plain": [
       "                 mean  median       std\n",
       "sepalLength  5.843333    5.80  0.828066\n",
       "sepalWidth   3.057333    3.00  0.435866\n",
       "petalLength  3.758000    4.35  1.765298\n",
       "petalWidth   1.199333    1.30  0.762238"
      ]
     },
     "execution_count": 3,
     "metadata": {},
     "output_type": "execute_result"
    }
   ],
   "source": [
    "import pandas as pd\n",
    "\n",
    "iris_df = pd.read_json(\"iris.json\")\n",
    "iris_stats = iris_df.describe().T[['mean', '50%', 'std']]\n",
    "iris_stats.rename(columns={'50%' : 'median'}, inplace=True)\n",
    "iris_stats"
   ]
  },
  {
   "cell_type": "code",
   "execution_count": 6,
   "metadata": {},
   "outputs": [
    {
     "name": "stdout",
     "output_type": "stream",
     "text": [
      "Min age:  0.42\n",
      "Max age:  80.0\n",
      "Sum age:  21205.17\n"
     ]
    }
   ],
   "source": [
    "excel_df = pd.read_excel(\"titanic.xlsx\")\n",
    "min_age = excel_df['Age'].min()\n",
    "max_age = excel_df['Age'].max()\n",
    "sum_age = excel_df['Age'].sum()\n",
    "print(\"Min age: \", min_age)\n",
    "print(\"Max age: \", max_age)\n",
    "print(\"Sum age: \", sum_age)"
   ]
  },
  {
   "cell_type": "code",
   "execution_count": null,
   "metadata": {},
   "outputs": [
    {
     "name": "stdout",
     "output_type": "stream",
     "text": [
      "                   movie_title  duration        director_name\n",
      "1694                   Trapped     511.0                  NaN\n",
      "2436                    Carlos     334.0                  NaN\n",
      "1487       Blood In, Blood Out     330.0      Taylor Hackford\n",
      "1134             Heaven's Gate     325.0       Michael Cimino\n",
      "3254  The Legend of Suriyothai     300.0  Chatrichalerm Yukol\n"
     ]
    }
   ],
   "source": [
    "movies_df = pd.read_csv(\"movie.csv\")\n",
    "movies_sorted = movies_df.sort_values(by='director_facebook_likes', ascending=False)\n",
    "print(movies_sorted.head())\n",
    "longest_movies = movies_df[['movie_title', 'duration', 'director_name']].nlargest(5, 'duration')\n",
    "print(longest_movies)"
   ]
  },
  {
   "cell_type": "code",
   "execution_count": null,
   "metadata": {},
   "outputs": [],
   "source": []
  }
 ],
 "metadata": {
  "kernelspec": {
   "display_name": ".venv",
   "language": "python",
   "name": "python3"
  },
  "language_info": {
   "codemirror_mode": {
    "name": "ipython",
    "version": 3
   },
   "file_extension": ".py",
   "mimetype": "text/x-python",
   "name": "python",
   "nbconvert_exporter": "python",
   "pygments_lexer": "ipython3",
   "version": "3.13.1"
  }
 },
 "nbformat": 4,
 "nbformat_minor": 2
}
