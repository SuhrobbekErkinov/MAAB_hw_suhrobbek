{
 "cells": [
  {
   "cell_type": "code",
   "execution_count": 3,
   "metadata": {},
   "outputs": [
    {
     "name": "stdout",
     "output_type": "stream",
     "text": [
      "   CustomerId  FirstName     LastName  \\\n",
      "0           1       Luís    Gonçalves   \n",
      "1           2     Leonie       Köhler   \n",
      "2           3   François     Tremblay   \n",
      "3           4      Bjørn       Hansen   \n",
      "4           5  František  Wichterlová   \n",
      "5           6     Helena         Holý   \n",
      "6           7     Astrid       Gruber   \n",
      "7           8       Daan      Peeters   \n",
      "8           9       Kara      Nielsen   \n",
      "9          10    Eduardo      Martins   \n",
      "\n",
      "                                            Company  \\\n",
      "0  Embraer - Empresa Brasileira de Aeronáutica S.A.   \n",
      "1                                              None   \n",
      "2                                              None   \n",
      "3                                              None   \n",
      "4                                  JetBrains s.r.o.   \n",
      "5                                              None   \n",
      "6                                              None   \n",
      "7                                              None   \n",
      "8                                              None   \n",
      "9                                  Woodstock Discos   \n",
      "\n",
      "                                Address                 City State  \\\n",
      "0       Av. Brigadeiro Faria Lima, 2170  São José dos Campos    SP   \n",
      "1               Theodor-Heuss-Straße 34            Stuttgart  None   \n",
      "2                     1498 rue Bélanger             Montréal    QC   \n",
      "3                      Ullevålsveien 14                 Oslo  None   \n",
      "4                         Klanova 9/506               Prague  None   \n",
      "5                         Rilská 3174/6               Prague  None   \n",
      "6  Rotenturmstraße 4, 1010 Innere Stadt               Vienne  None   \n",
      "7                       Grétrystraat 63             Brussels  None   \n",
      "8                   Sønder Boulevard 51           Copenhagen  None   \n",
      "9             Rua Dr. Falcão Filho, 155            São Paulo    SP   \n",
      "\n",
      "          Country PostalCode               Phone                 Fax  \\\n",
      "0          Brazil  12227-000  +55 (12) 3923-5555  +55 (12) 3923-5566   \n",
      "1         Germany      70174    +49 0711 2842222                None   \n",
      "2          Canada    H2G 1A7   +1 (514) 721-4711                None   \n",
      "3          Norway       0171     +47 22 44 22 22                None   \n",
      "4  Czech Republic      14700    +420 2 4172 5555    +420 2 4172 5555   \n",
      "5  Czech Republic      14300    +420 2 4177 0449                None   \n",
      "6         Austria       1010      +43 01 5134505                None   \n",
      "7         Belgium       1000    +32 02 219 03 03                None   \n",
      "8         Denmark       1720      +453 3331 9991                None   \n",
      "9          Brazil  01007-010  +55 (11) 3033-5446  +55 (11) 3033-4564   \n",
      "\n",
      "                      Email  SupportRepId  \n",
      "0      luisg@embraer.com.br             3  \n",
      "1     leonekohler@surfeu.de             5  \n",
      "2       ftremblay@gmail.com             3  \n",
      "3     bjorn.hansen@yahoo.no             4  \n",
      "4  frantisekw@jetbrains.com             4  \n",
      "5           hholy@gmail.com             5  \n",
      "6    astrid.gruber@apple.at             5  \n",
      "7     daan_peeters@apple.be             4  \n",
      "8     kara.nielsen@jubii.dk             4  \n",
      "9  eduardo@woodstock.com.br             4  \n"
     ]
    }
   ],
   "source": [
    "import sqlite3\n",
    "import pandas as pd\n",
    "\n",
    "conn = sqlite3.connect(\"chinook.db\")\n",
    "customers_df = pd.read_sql_query(\"SELECT * FROM customers\", conn)\n",
    "\n",
    "print(customers_df.head(10))\n",
    "conn.close()"
   ]
  },
  {
   "cell_type": "code",
   "execution_count": 4,
   "metadata": {},
   "outputs": [
    {
     "name": "stdout",
     "output_type": "stream",
     "text": [
      "Shape of the iris.json:  (150, 5)\n",
      "Columns of the iris.json:  Index(['sepalLength', 'sepalWidth', 'petalLength', 'petalWidth', 'species'], dtype='object')\n"
     ]
    }
   ],
   "source": [
    "iris_df = pd.read_json(\"iris.json\")\n",
    "print(\"Shape of the iris.json: \", iris_df.shape)\n",
    "print(\"Columns of the iris.json: \", iris_df.columns)"
   ]
  },
  {
   "cell_type": "code",
   "execution_count": 5,
   "metadata": {},
   "outputs": [
    {
     "name": "stdout",
     "output_type": "stream",
     "text": [
      "   PassengerId  Survived  Pclass  \\\n",
      "0            1         0       3   \n",
      "1            2         1       1   \n",
      "2            3         1       3   \n",
      "3            4         1       1   \n",
      "4            5         0       3   \n",
      "\n",
      "                                                Name     Sex   Age  SibSp  \\\n",
      "0                            Braund, Mr. Owen Harris    male  22.0      1   \n",
      "1  Cumings, Mrs. John Bradley (Florence Briggs Th...  female  38.0      1   \n",
      "2                             Heikkinen, Miss. Laina  female  26.0      0   \n",
      "3       Futrelle, Mrs. Jacques Heath (Lily May Peel)  female  35.0      1   \n",
      "4                           Allen, Mr. William Henry    male  35.0      0   \n",
      "\n",
      "   Parch            Ticket     Fare Cabin Embarked  \n",
      "0      0         A/5 21171   7.2500   NaN        S  \n",
      "1      0          PC 17599  71.2833   C85        C  \n",
      "2      0  STON/O2. 3101282   7.9250   NaN        S  \n",
      "3      0            113803  53.1000  C123        S  \n",
      "4      0            373450   8.0500   NaN        S  \n"
     ]
    }
   ],
   "source": [
    "excel_df = pd.read_excel(\"titanic.xlsx\")\n",
    "print(excel_df.head())"
   ]
  },
  {
   "cell_type": "code",
   "execution_count": 12,
   "metadata": {},
   "outputs": [
    {
     "name": "stdout",
     "output_type": "stream",
     "text": [
      "<class 'pandas.core.frame.DataFrame'>\n",
      "RangeIndex: 297605 entries, 0 to 297604\n",
      "Columns: 109 entries, Year to Div5TailNum\n",
      "dtypes: object(109)\n",
      "memory usage: 247.5+ MB\n",
      "None\n"
     ]
    }
   ],
   "source": [
    "df_flights = pd.read_parquet(\"flights.snappy.parquet\")\n",
    "print(df_flights.info())"
   ]
  },
  {
   "cell_type": "code",
   "execution_count": 11,
   "metadata": {},
   "outputs": [
    {
     "name": "stdout",
     "output_type": "stream",
     "text": [
      "      color    director_name  num_critic_for_reviews  duration  \\\n",
      "1909  Color     Andy Fickman                    91.0     105.0   \n",
      "1381  Color   Andrew Bergman                    63.0      95.0   \n",
      "4539  Color      James Algar                   116.0      70.0   \n",
      "3229  Color      Tom Holland                   142.0      87.0   \n",
      "4711  Color   Gavin O'Connor                    64.0     102.0   \n",
      "4109  Color   James Ponsoldt                   220.0      95.0   \n",
      "2751  Color  Martin Scorsese                    59.0     136.0   \n",
      "4740  Color    Miguel Arteta                    59.0      96.0   \n",
      "1989  Color  Guillaume Canet                   118.0     134.0   \n",
      "1294  Color     Danny DeVito                    78.0      89.0   \n",
      "\n",
      "      director_facebook_likes  actor_3_facebook_likes            actor_2_name  \\\n",
      "1909                     99.0                   960.0  Alexandra Breckenridge   \n",
      "1381                     31.0                   450.0             Nathan Lane   \n",
      "4539                     11.0                     8.0          Donnie Dunagan   \n",
      "3229                     85.0                   118.0            Alex Vincent   \n",
      "4711                    149.0                   276.0            Janet McTeer   \n",
      "4109                     53.0                   478.0    Jennifer Jason Leigh   \n",
      "2751                  17000.0                   213.0           Liza Minnelli   \n",
      "4740                     44.0                   129.0              Mike White   \n",
      "1989                      0.0                    92.0          Benoît Magimel   \n",
      "1294                      0.0                   500.0          Amber Valletta   \n",
      "\n",
      "      actor_1_facebook_likes        gross                       genres  ...  \\\n",
      "1909                 17000.0   33687630.0               Comedy|Romance  ...   \n",
      "1381                   944.0    2954405.0     Biography|Comedy|Romance  ...   \n",
      "4539                    16.0  102797150.0       Animation|Drama|Family  ...   \n",
      "3229                   311.0   33244684.0               Fantasy|Horror  ...   \n",
      "4711                   409.0    1281176.0                 Comedy|Drama  ...   \n",
      "4109                  8000.0    6851969.0         Comedy|Drama|Romance  ...   \n",
      "2751                 22000.0          NaN  Drama|Music|Musical|Romance  ...   \n",
      "4740                   625.0    1050600.0                 Comedy|Drama  ...   \n",
      "1989                   541.0     183662.0                 Comedy|Drama  ...   \n",
      "1294                  1000.0    9652000.0                       Comedy  ...   \n",
      "\n",
      "     num_user_for_reviews language  country  content_rating      budget  \\\n",
      "1909                261.0  English      USA           PG-13  20000000.0   \n",
      "1381                 64.0  English      USA               R  36000000.0   \n",
      "4539                136.0  English      USA        Approved         NaN   \n",
      "3229                281.0  English      USA               R   9000000.0   \n",
      "4711                 73.0  English      USA           PG-13    312000.0   \n",
      "4109                178.0  English      USA               R   2500000.0   \n",
      "2751                 75.0  English      USA              PG  14000000.0   \n",
      "4740                136.0  English      USA               R    250000.0   \n",
      "1989                 48.0   French   France       Not Rated  25000000.0   \n",
      "1294                147.0  English      USA           PG-13  40000000.0   \n",
      "\n",
      "      title_year actor_2_facebook_likes imdb_score  aspect_ratio  \\\n",
      "1909      2006.0                 1000.0        6.4          1.85   \n",
      "1381      2000.0                  886.0        5.3          1.85   \n",
      "4539      1942.0                   12.0        7.4          1.33   \n",
      "3229      1988.0                  189.0        6.5          1.85   \n",
      "4711      1999.0                  277.0        6.7          1.85   \n",
      "4109      2013.0                 1000.0        7.1          2.35   \n",
      "2751      1977.0                  740.0        6.7          1.66   \n",
      "4740      2000.0                  487.0        6.6          1.85   \n",
      "1989      2010.0                  173.0        7.1          2.35   \n",
      "1294      2003.0                  627.0        5.8          1.85   \n",
      "\n",
      "     movie_facebook_likes  \n",
      "1909                    0  \n",
      "1381                  133  \n",
      "4539                    0  \n",
      "3229                    0  \n",
      "4711                  121  \n",
      "4109                10000  \n",
      "2751                  932  \n",
      "4740                  170  \n",
      "1989                    0  \n",
      "1294                    0  \n",
      "\n",
      "[10 rows x 28 columns]\n"
     ]
    }
   ],
   "source": [
    "df_movies = pd.read_csv(\"movie.csv\")\n",
    "print(df_movies.sample(10))"
   ]
  }
 ],
 "metadata": {
  "kernelspec": {
   "display_name": ".venv",
   "language": "python",
   "name": "python3"
  },
  "language_info": {
   "codemirror_mode": {
    "name": "ipython",
    "version": 3
   },
   "file_extension": ".py",
   "mimetype": "text/x-python",
   "name": "python",
   "nbconvert_exporter": "python",
   "pygments_lexer": "ipython3",
   "version": "3.13.1"
  }
 },
 "nbformat": 4,
 "nbformat_minor": 2
}
