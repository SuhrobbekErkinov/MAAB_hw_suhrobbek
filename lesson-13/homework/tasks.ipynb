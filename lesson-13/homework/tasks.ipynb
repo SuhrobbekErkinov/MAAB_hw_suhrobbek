{
 "cells": [
  {
   "cell_type": "markdown",
   "metadata": {},
   "source": [
    "### task 1\n",
    "\n"
   ]
  },
  {
   "cell_type": "code",
   "execution_count": 2,
   "metadata": {},
   "outputs": [
    {
     "name": "stdout",
     "output_type": "stream",
     "text": [
      "Vector: [10 11 12 13 14 15 16 17 18 19 20 21 22 23 24 25 26 27 28 29 30 31 32 33\n",
      " 34 35 36 37 38 39 40 41 42 43 44 45 46 47 48 49]\n"
     ]
    }
   ],
   "source": [
    "import numpy as np\n",
    "vector = np.arange(10, 50)\n",
    "print(\"Vector:\", vector)"
   ]
  },
  {
   "cell_type": "markdown",
   "metadata": {},
   "source": [
    "### task 2"
   ]
  },
  {
   "cell_type": "code",
   "execution_count": 3,
   "metadata": {},
   "outputs": [
    {
     "name": "stdout",
     "output_type": "stream",
     "text": [
      "3x3 Matrix:\n",
      " [[0 1 2]\n",
      " [3 4 5]\n",
      " [6 7 8]]\n"
     ]
    }
   ],
   "source": [
    "matrix = np.arange(9).reshape(3, 3)\n",
    "print(\"3x3 Matrix:\\n\", matrix)"
   ]
  },
  {
   "cell_type": "markdown",
   "metadata": {},
   "source": [
    "### task 3\n"
   ]
  },
  {
   "cell_type": "code",
   "execution_count": 4,
   "metadata": {},
   "outputs": [
    {
     "name": "stdout",
     "output_type": "stream",
     "text": [
      "\n",
      "Identity Matrix:\n",
      " [[1. 0. 0.]\n",
      " [0. 1. 0.]\n",
      " [0. 0. 1.]]\n"
     ]
    }
   ],
   "source": [
    "identity_matrix = np.eye(3)\n",
    "print(\"\\nIdentity Matrix:\\n\", identity_matrix)"
   ]
  },
  {
   "cell_type": "markdown",
   "metadata": {},
   "source": [
    "### task 4"
   ]
  },
  {
   "cell_type": "code",
   "execution_count": 12,
   "metadata": {},
   "outputs": [
    {
     "name": "stdout",
     "output_type": "stream",
     "text": [
      "\n",
      "3x3x3 Random Array:\n",
      " [[[0.29889717 0.41826074 0.48823202]\n",
      "  [0.06883792 0.88024079 0.14017503]\n",
      "  [0.37603417 0.99537867 0.38763361]]\n",
      "\n",
      " [[0.6994012  0.761524   0.59627965]\n",
      "  [0.42762875 0.96020315 0.19477442]\n",
      "  [0.61201927 0.08445299 0.10607261]]\n",
      "\n",
      " [[0.34156078 0.54198042 0.260319  ]\n",
      "  [0.84512176 0.52939166 0.65153894]\n",
      "  [0.44754797 0.5308415  0.72356029]]]\n"
     ]
    }
   ],
   "source": [
    "random_array = np.random.random((3, 3, 3))\n",
    "print(\"\\n3x3x3 Random Array:\\n\", random_array)"
   ]
  },
  {
   "cell_type": "markdown",
   "metadata": {},
   "source": [
    "### task 5"
   ]
  },
  {
   "cell_type": "code",
   "execution_count": 13,
   "metadata": {},
   "outputs": [
    {
     "name": "stdout",
     "output_type": "stream",
     "text": [
      "\n",
      "Min value: 0.0042333918951253935 Max value: 0.9970825564921059\n"
     ]
    }
   ],
   "source": [
    "random_matrix = np.random.random((10, 10))\n",
    "min_val = np.min(random_matrix)\n",
    "max_val = np.max(random_matrix)\n",
    "print(\"\\nMin value:\", min_val, \"Max value:\", max_val)"
   ]
  },
  {
   "cell_type": "markdown",
   "metadata": {},
   "source": [
    "### task 6"
   ]
  },
  {
   "cell_type": "code",
   "execution_count": 14,
   "metadata": {},
   "outputs": [
    {
     "name": "stdout",
     "output_type": "stream",
     "text": [
      "\n",
      "Mean value of random vector: 0.4005883806019369\n"
     ]
    }
   ],
   "source": [
    "random_vector = np.random.random(30)\n",
    "mean_value = np.mean(random_vector)\n",
    "print(\"\\nMean value of random vector:\", mean_value)"
   ]
  },
  {
   "cell_type": "markdown",
   "metadata": {},
   "source": [
    "### task 7"
   ]
  },
  {
   "cell_type": "code",
   "execution_count": 15,
   "metadata": {},
   "outputs": [
    {
     "name": "stdout",
     "output_type": "stream",
     "text": [
      "\n",
      "Normalized 5x5 Matrix:\n",
      " [[0.70778858 0.36592942 0.8665513  0.81809645 0.14365784]\n",
      " [0.25805653 0.33679822 0.68248739 0.24824502 0.8756067 ]\n",
      " [0.98915236 0.36012459 0.3055607  1.         0.83564072]\n",
      " [0.20984645 0.38358363 0.         0.67284929 0.11855902]\n",
      " [0.94562245 0.87951952 0.25557514 0.58913248 0.48723146]]\n"
     ]
    }
   ],
   "source": [
    "random_matrix_5x5 = np.random.random((5, 5))\n",
    "normalized_matrix = (random_matrix_5x5 - np.min(random_matrix_5x5)) / (np.max(random_matrix_5x5) - np.min(random_matrix_5x5))\n",
    "print(\"\\nNormalized 5x5 Matrix:\\n\", normalized_matrix)"
   ]
  },
  {
   "cell_type": "markdown",
   "metadata": {},
   "source": [
    "### task 8\n"
   ]
  },
  {
   "cell_type": "code",
   "execution_count": 16,
   "metadata": {},
   "outputs": [
    {
     "name": "stdout",
     "output_type": "stream",
     "text": [
      "\n",
      "Matrix Product (5x3 * 3x2):\n",
      " [[65 84]\n",
      " [90 94]\n",
      " [12 11]\n",
      " [35 42]\n",
      " [43 46]]\n"
     ]
    }
   ],
   "source": [
    "matrix_a = np.random.randint(0, 10, (5, 3))\n",
    "matrix_b = np.random.randint(0, 10, (3, 2))\n",
    "matrix_product = np.dot(matrix_a, matrix_b)\n",
    "print(\"\\nMatrix Product (5x3 * 3x2):\\n\", matrix_product)"
   ]
  },
  {
   "cell_type": "markdown",
   "metadata": {},
   "source": [
    "### task 9"
   ]
  },
  {
   "cell_type": "code",
   "execution_count": 17,
   "metadata": {},
   "outputs": [
    {
     "name": "stdout",
     "output_type": "stream",
     "text": [
      "\n",
      "Dot Product of two 3x3 matrices:\n",
      " [[100 161 139]\n",
      " [ 69 108  96]\n",
      " [ 33  66  62]]\n"
     ]
    }
   ],
   "source": [
    "matrix_x = np.random.randint(0, 10, (3, 3))\n",
    "matrix_y = np.random.randint(0, 10, (3, 3))\n",
    "dot_product = np.dot(matrix_x, matrix_y)\n",
    "print(\"\\nDot Product of two 3x3 matrices:\\n\", dot_product)\n"
   ]
  },
  {
   "cell_type": "markdown",
   "metadata": {},
   "source": [
    "### task 10"
   ]
  },
  {
   "cell_type": "code",
   "execution_count": 18,
   "metadata": {},
   "outputs": [
    {
     "name": "stdout",
     "output_type": "stream",
     "text": [
      "\n",
      "Transpose of 4x4 matrix:\n",
      " [[7 9 5 1]\n",
      " [8 9 2 4]\n",
      " [0 7 8 4]\n",
      " [0 1 1 7]]\n"
     ]
    }
   ],
   "source": [
    "matrix_4x4 = np.random.randint(0, 10, (4, 4))\n",
    "transpose_matrix = np.transpose(matrix_4x4)\n",
    "print(\"\\nTranspose of 4x4 matrix:\\n\", transpose_matrix)"
   ]
  },
  {
   "cell_type": "markdown",
   "metadata": {},
   "source": [
    "### task 11"
   ]
  },
  {
   "cell_type": "code",
   "execution_count": 19,
   "metadata": {},
   "outputs": [
    {
     "name": "stdout",
     "output_type": "stream",
     "text": [
      "\n",
      "Determinant of 3x3 matrix: 270.00000000000006\n"
     ]
    }
   ],
   "source": [
    "matrix_3x3 = np.random.randint(0, 10, (3, 3))\n",
    "determinant = np.linalg.det(matrix_3x3)\n",
    "print(\"\\nDeterminant of 3x3 matrix:\", determinant)"
   ]
  },
  {
   "cell_type": "markdown",
   "metadata": {},
   "source": [
    "### task 12"
   ]
  },
  {
   "cell_type": "code",
   "execution_count": 20,
   "metadata": {},
   "outputs": [
    {
     "name": "stdout",
     "output_type": "stream",
     "text": [
      "\n",
      "Matrix Product (3x4 * 4x3):\n",
      " [[104  81  55]\n",
      " [171 155  92]\n",
      " [ 64  66  35]]\n"
     ]
    }
   ],
   "source": [
    "matrix_A = np.random.randint(0, 10, (3, 4))\n",
    "matrix_B = np.random.randint(0, 10, (4, 3))\n",
    "matrix_AB = np.dot(matrix_A, matrix_B)\n",
    "print(\"\\nMatrix Product (3x4 * 4x3):\\n\", matrix_AB)\n"
   ]
  },
  {
   "cell_type": "markdown",
   "metadata": {},
   "source": [
    "### task 13"
   ]
  },
  {
   "cell_type": "code",
   "execution_count": 22,
   "metadata": {},
   "outputs": [
    {
     "name": "stdout",
     "output_type": "stream",
     "text": [
      "\n",
      "Matrix-Vector Product:\n",
      " [[154]\n",
      " [ 90]\n",
      " [ 93]]\n"
     ]
    }
   ],
   "source": [
    "matrix_3x3 = np.random.randint(0, 10, (3, 3))\n",
    "vector_3x1 = np.random.randint(0, 10, (3, 1))\n",
    "matrix_vector_product = np.dot(matrix_3x3, vector_3x1)\n",
    "print(\"\\nMatrix-Vector Product:\\n\", matrix_vector_product)"
   ]
  },
  {
   "cell_type": "markdown",
   "metadata": {},
   "source": [
    "### task 14\n"
   ]
  },
  {
   "cell_type": "code",
   "execution_count": 23,
   "metadata": {},
   "outputs": [
    {
     "name": "stdout",
     "output_type": "stream",
     "text": [
      "\n",
      "Solution to Ax = b:\n",
      " [[1.33898305]\n",
      " [0.61016949]\n",
      " [0.59322034]]\n"
     ]
    }
   ],
   "source": [
    "A = np.random.randint(1, 10, (3, 3))\n",
    "b = np.random.randint(1, 10, (3, 1))\n",
    "x = np.linalg.solve(A, b)\n",
    "print(\"\\nSolution to Ax = b:\\n\", x)"
   ]
  },
  {
   "cell_type": "markdown",
   "metadata": {},
   "source": [
    "### task 15\n"
   ]
  },
  {
   "cell_type": "code",
   "execution_count": 24,
   "metadata": {},
   "outputs": [
    {
     "name": "stdout",
     "output_type": "stream",
     "text": [
      "\n",
      "Row-wise sums: [17 18 24 20 23]\n",
      "Column-wise sums: [13 26 17 17 29]\n"
     ]
    }
   ],
   "source": [
    "matrix_5x5 = np.random.randint(0, 10, (5, 5))\n",
    "row_sums = np.sum(matrix_5x5, axis=1)\n",
    "column_sums = np.sum(matrix_5x5, axis=0)\n",
    "print(\"\\nRow-wise sums:\", row_sums)\n",
    "print(\"Column-wise sums:\", column_sums)"
   ]
  }
 ],
 "metadata": {
  "kernelspec": {
   "display_name": "Python 3",
   "language": "python",
   "name": "python3"
  },
  "language_info": {
   "codemirror_mode": {
    "name": "ipython",
    "version": 3
   },
   "file_extension": ".py",
   "mimetype": "text/x-python",
   "name": "python",
   "nbconvert_exporter": "python",
   "pygments_lexer": "ipython3",
   "version": "3.13.1"
  }
 },
 "nbformat": 4,
 "nbformat_minor": 2
}
